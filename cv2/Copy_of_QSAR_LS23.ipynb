{
  "nbformat": 4,
  "nbformat_minor": 0,
  "metadata": {
    "colab": {
      "provenance": []
    },
    "kernelspec": {
      "name": "python3",
      "display_name": "Python 3"
    },
    "language_info": {
      "name": "python"
    }
  },
  "cells": [
    {
      "cell_type": "code",
      "metadata": {
        "id": "es0ZVxjCcY7M",
        "colab": {
          "base_uri": "https://localhost:8080/"
        },
        "outputId": "6d70f3ae-3d01-42cb-dc6f-5dd19a113063"
      },
      "source": [
        "!pip install -q condacolab\n",
        "import condacolab\n",
        "condacolab.install()\n",
        "!conda install -c rdkit rdkit"
      ],
      "execution_count": 1,
      "outputs": [
        {
          "output_type": "stream",
          "name": "stdout",
          "text": [
            "\u001b[33mWARNING: Running pip as the 'root' user can result in broken permissions and conflicting behaviour with the system package manager. It is recommended to use a virtual environment instead: https://pip.pypa.io/warnings/venv\u001b[0m\u001b[33m\n",
            "\u001b[0m✨🍰✨ Everything looks OK!\n",
            "Channels:\n",
            " - rdkit\n",
            " - conda-forge\n",
            "Platform: linux-64\n",
            "Collecting package metadata (repodata.json): - \b\b\\ \b\b| \b\b/ \b\b- \b\b\\ \b\b| \b\b/ \b\b- \b\b\\ \b\b| \b\b/ \b\bdone\n",
            "Solving environment: \\ \b\b| \b\b/ \b\b- \b\b\\ \b\bdone\n",
            "\n",
            "\n",
            "==> WARNING: A newer version of conda exists. <==\n",
            "    current version: 23.11.0\n",
            "    latest version: 24.3.0\n",
            "\n",
            "Please update conda by running\n",
            "\n",
            "    $ conda update -n base -c conda-forge conda\n",
            "\n",
            "\n",
            "\n",
            "# All requested packages already installed.\n",
            "\n"
          ]
        }
      ]
    },
    {
      "cell_type": "code",
      "source": [
        "import numpy as np\n",
        "import pandas as pd\n",
        "import matplotlib.pyplot as plt\n",
        "import torch\n",
        "import torch.nn as nn\n",
        "from sklearn.preprocessing import StandardScaler\n",
        "from sklearn.model_selection import train_test_split\n",
        "from sklearn.feature_selection import VarianceThreshold"
      ],
      "metadata": {
        "id": "cAvQ6DQVRbqf"
      },
      "execution_count": 2,
      "outputs": []
    },
    {
      "cell_type": "code",
      "source": [
        "from rdkit import Chem, DataStructs\n",
        "from rdkit.Chem import PandasTools, AllChem"
      ],
      "metadata": {
        "id": "cyx9KWjgmhoZ"
      },
      "execution_count": 3,
      "outputs": []
    },
    {
      "cell_type": "code",
      "source": [
        "data = pd.read_csv(\"dataset.csv\")\n",
        "data.head(5)"
      ],
      "metadata": {
        "colab": {
          "base_uri": "https://localhost:8080/",
          "height": 313
        },
        "id": "6ySOdSzqnW93",
        "outputId": "30b86703-42ee-4d53-8fb2-d503b8076952"
      },
      "execution_count": 5,
      "outputs": [
        {
          "output_type": "execute_result",
          "data": {
            "text/plain": [
              "                Ambit_InchiKey Original_Entry_ID  Entrez_ID Activity_Flag  \\\n",
              "0  CWYBNSVSYKQGJB-UHFFFAOYNA-N          71541095       6532             A   \n",
              "1  CTETYYAZBPJBHE-UHFFFAOYNA-N        CHEMBL1289       6532             A   \n",
              "2  FQDRMHHCWZAXJM-UHFFFAOYNA-N            125558      25553             A   \n",
              "3  QRAWNNQNLQPNIZ-UHFFFAOYNA-N      CHEMBL205229       6532             A   \n",
              "4  HCFHWXDIZOAUTQ-UHFFFAOYNA-N        CHEMBL6376      25553             A   \n",
              "\n",
              "     pXC50        DB  Original_Assay_ID  Tax_ID Gene_Symbol  Ortholog_Group  \\\n",
              "0  6.85387   pubchem             727355    9606      SLC6A4            4061   \n",
              "1  6.37000  chembl20             774720    9606      SLC6A4            4061   \n",
              "2  9.98297   pubchem             205028   10116      SLC6A4            4061   \n",
              "3  7.54000  chembl20             950695    9606      SLC6A4            4061   \n",
              "4  6.11000  chembl20             201505   10116      SLC6A4            4061   \n",
              "\n",
              "                          SMILES  \n",
              "0     ClC=1C=C(C2CCCCNC2)C=CC1Cl  \n",
              "1  C(#CI)COC=1C=C(Cl)C(=CC1Cl)Cl  \n",
              "2       O1C=2C=C3CC(N)CC3=CC2OC1  \n",
              "3      N1C=C(CCN)C2=C1C(=CC=C2)F  \n",
              "4      C1(=CC=2OCOC2C=C1C)CC(N)C  "
            ],
            "text/html": [
              "\n",
              "  <div id=\"df-9247a8dc-381f-4a4a-8141-5c17876a6df8\" class=\"colab-df-container\">\n",
              "    <div>\n",
              "<style scoped>\n",
              "    .dataframe tbody tr th:only-of-type {\n",
              "        vertical-align: middle;\n",
              "    }\n",
              "\n",
              "    .dataframe tbody tr th {\n",
              "        vertical-align: top;\n",
              "    }\n",
              "\n",
              "    .dataframe thead th {\n",
              "        text-align: right;\n",
              "    }\n",
              "</style>\n",
              "<table border=\"1\" class=\"dataframe\">\n",
              "  <thead>\n",
              "    <tr style=\"text-align: right;\">\n",
              "      <th></th>\n",
              "      <th>Ambit_InchiKey</th>\n",
              "      <th>Original_Entry_ID</th>\n",
              "      <th>Entrez_ID</th>\n",
              "      <th>Activity_Flag</th>\n",
              "      <th>pXC50</th>\n",
              "      <th>DB</th>\n",
              "      <th>Original_Assay_ID</th>\n",
              "      <th>Tax_ID</th>\n",
              "      <th>Gene_Symbol</th>\n",
              "      <th>Ortholog_Group</th>\n",
              "      <th>SMILES</th>\n",
              "    </tr>\n",
              "  </thead>\n",
              "  <tbody>\n",
              "    <tr>\n",
              "      <th>0</th>\n",
              "      <td>CWYBNSVSYKQGJB-UHFFFAOYNA-N</td>\n",
              "      <td>71541095</td>\n",
              "      <td>6532</td>\n",
              "      <td>A</td>\n",
              "      <td>6.85387</td>\n",
              "      <td>pubchem</td>\n",
              "      <td>727355</td>\n",
              "      <td>9606</td>\n",
              "      <td>SLC6A4</td>\n",
              "      <td>4061</td>\n",
              "      <td>ClC=1C=C(C2CCCCNC2)C=CC1Cl</td>\n",
              "    </tr>\n",
              "    <tr>\n",
              "      <th>1</th>\n",
              "      <td>CTETYYAZBPJBHE-UHFFFAOYNA-N</td>\n",
              "      <td>CHEMBL1289</td>\n",
              "      <td>6532</td>\n",
              "      <td>A</td>\n",
              "      <td>6.37000</td>\n",
              "      <td>chembl20</td>\n",
              "      <td>774720</td>\n",
              "      <td>9606</td>\n",
              "      <td>SLC6A4</td>\n",
              "      <td>4061</td>\n",
              "      <td>C(#CI)COC=1C=C(Cl)C(=CC1Cl)Cl</td>\n",
              "    </tr>\n",
              "    <tr>\n",
              "      <th>2</th>\n",
              "      <td>FQDRMHHCWZAXJM-UHFFFAOYNA-N</td>\n",
              "      <td>125558</td>\n",
              "      <td>25553</td>\n",
              "      <td>A</td>\n",
              "      <td>9.98297</td>\n",
              "      <td>pubchem</td>\n",
              "      <td>205028</td>\n",
              "      <td>10116</td>\n",
              "      <td>SLC6A4</td>\n",
              "      <td>4061</td>\n",
              "      <td>O1C=2C=C3CC(N)CC3=CC2OC1</td>\n",
              "    </tr>\n",
              "    <tr>\n",
              "      <th>3</th>\n",
              "      <td>QRAWNNQNLQPNIZ-UHFFFAOYNA-N</td>\n",
              "      <td>CHEMBL205229</td>\n",
              "      <td>6532</td>\n",
              "      <td>A</td>\n",
              "      <td>7.54000</td>\n",
              "      <td>chembl20</td>\n",
              "      <td>950695</td>\n",
              "      <td>9606</td>\n",
              "      <td>SLC6A4</td>\n",
              "      <td>4061</td>\n",
              "      <td>N1C=C(CCN)C2=C1C(=CC=C2)F</td>\n",
              "    </tr>\n",
              "    <tr>\n",
              "      <th>4</th>\n",
              "      <td>HCFHWXDIZOAUTQ-UHFFFAOYNA-N</td>\n",
              "      <td>CHEMBL6376</td>\n",
              "      <td>25553</td>\n",
              "      <td>A</td>\n",
              "      <td>6.11000</td>\n",
              "      <td>chembl20</td>\n",
              "      <td>201505</td>\n",
              "      <td>10116</td>\n",
              "      <td>SLC6A4</td>\n",
              "      <td>4061</td>\n",
              "      <td>C1(=CC=2OCOC2C=C1C)CC(N)C</td>\n",
              "    </tr>\n",
              "  </tbody>\n",
              "</table>\n",
              "</div>\n",
              "    <div class=\"colab-df-buttons\">\n",
              "\n",
              "  <div class=\"colab-df-container\">\n",
              "    <button class=\"colab-df-convert\" onclick=\"convertToInteractive('df-9247a8dc-381f-4a4a-8141-5c17876a6df8')\"\n",
              "            title=\"Convert this dataframe to an interactive table.\"\n",
              "            style=\"display:none;\">\n",
              "\n",
              "  <svg xmlns=\"http://www.w3.org/2000/svg\" height=\"24px\" viewBox=\"0 -960 960 960\">\n",
              "    <path d=\"M120-120v-720h720v720H120Zm60-500h600v-160H180v160Zm220 220h160v-160H400v160Zm0 220h160v-160H400v160ZM180-400h160v-160H180v160Zm440 0h160v-160H620v160ZM180-180h160v-160H180v160Zm440 0h160v-160H620v160Z\"/>\n",
              "  </svg>\n",
              "    </button>\n",
              "\n",
              "  <style>\n",
              "    .colab-df-container {\n",
              "      display:flex;\n",
              "      gap: 12px;\n",
              "    }\n",
              "\n",
              "    .colab-df-convert {\n",
              "      background-color: #E8F0FE;\n",
              "      border: none;\n",
              "      border-radius: 50%;\n",
              "      cursor: pointer;\n",
              "      display: none;\n",
              "      fill: #1967D2;\n",
              "      height: 32px;\n",
              "      padding: 0 0 0 0;\n",
              "      width: 32px;\n",
              "    }\n",
              "\n",
              "    .colab-df-convert:hover {\n",
              "      background-color: #E2EBFA;\n",
              "      box-shadow: 0px 1px 2px rgba(60, 64, 67, 0.3), 0px 1px 3px 1px rgba(60, 64, 67, 0.15);\n",
              "      fill: #174EA6;\n",
              "    }\n",
              "\n",
              "    .colab-df-buttons div {\n",
              "      margin-bottom: 4px;\n",
              "    }\n",
              "\n",
              "    [theme=dark] .colab-df-convert {\n",
              "      background-color: #3B4455;\n",
              "      fill: #D2E3FC;\n",
              "    }\n",
              "\n",
              "    [theme=dark] .colab-df-convert:hover {\n",
              "      background-color: #434B5C;\n",
              "      box-shadow: 0px 1px 3px 1px rgba(0, 0, 0, 0.15);\n",
              "      filter: drop-shadow(0px 1px 2px rgba(0, 0, 0, 0.3));\n",
              "      fill: #FFFFFF;\n",
              "    }\n",
              "  </style>\n",
              "\n",
              "    <script>\n",
              "      const buttonEl =\n",
              "        document.querySelector('#df-9247a8dc-381f-4a4a-8141-5c17876a6df8 button.colab-df-convert');\n",
              "      buttonEl.style.display =\n",
              "        google.colab.kernel.accessAllowed ? 'block' : 'none';\n",
              "\n",
              "      async function convertToInteractive(key) {\n",
              "        const element = document.querySelector('#df-9247a8dc-381f-4a4a-8141-5c17876a6df8');\n",
              "        const dataTable =\n",
              "          await google.colab.kernel.invokeFunction('convertToInteractive',\n",
              "                                                    [key], {});\n",
              "        if (!dataTable) return;\n",
              "\n",
              "        const docLinkHtml = 'Like what you see? Visit the ' +\n",
              "          '<a target=\"_blank\" href=https://colab.research.google.com/notebooks/data_table.ipynb>data table notebook</a>'\n",
              "          + ' to learn more about interactive tables.';\n",
              "        element.innerHTML = '';\n",
              "        dataTable['output_type'] = 'display_data';\n",
              "        await google.colab.output.renderOutput(dataTable, element);\n",
              "        const docLink = document.createElement('div');\n",
              "        docLink.innerHTML = docLinkHtml;\n",
              "        element.appendChild(docLink);\n",
              "      }\n",
              "    </script>\n",
              "  </div>\n",
              "\n",
              "\n",
              "<div id=\"df-ddbbfcae-58a8-46f9-9c19-7fa47d95f6f7\">\n",
              "  <button class=\"colab-df-quickchart\" onclick=\"quickchart('df-ddbbfcae-58a8-46f9-9c19-7fa47d95f6f7')\"\n",
              "            title=\"Suggest charts\"\n",
              "            style=\"display:none;\">\n",
              "\n",
              "<svg xmlns=\"http://www.w3.org/2000/svg\" height=\"24px\"viewBox=\"0 0 24 24\"\n",
              "     width=\"24px\">\n",
              "    <g>\n",
              "        <path d=\"M19 3H5c-1.1 0-2 .9-2 2v14c0 1.1.9 2 2 2h14c1.1 0 2-.9 2-2V5c0-1.1-.9-2-2-2zM9 17H7v-7h2v7zm4 0h-2V7h2v10zm4 0h-2v-4h2v4z\"/>\n",
              "    </g>\n",
              "</svg>\n",
              "  </button>\n",
              "\n",
              "<style>\n",
              "  .colab-df-quickchart {\n",
              "      --bg-color: #E8F0FE;\n",
              "      --fill-color: #1967D2;\n",
              "      --hover-bg-color: #E2EBFA;\n",
              "      --hover-fill-color: #174EA6;\n",
              "      --disabled-fill-color: #AAA;\n",
              "      --disabled-bg-color: #DDD;\n",
              "  }\n",
              "\n",
              "  [theme=dark] .colab-df-quickchart {\n",
              "      --bg-color: #3B4455;\n",
              "      --fill-color: #D2E3FC;\n",
              "      --hover-bg-color: #434B5C;\n",
              "      --hover-fill-color: #FFFFFF;\n",
              "      --disabled-bg-color: #3B4455;\n",
              "      --disabled-fill-color: #666;\n",
              "  }\n",
              "\n",
              "  .colab-df-quickchart {\n",
              "    background-color: var(--bg-color);\n",
              "    border: none;\n",
              "    border-radius: 50%;\n",
              "    cursor: pointer;\n",
              "    display: none;\n",
              "    fill: var(--fill-color);\n",
              "    height: 32px;\n",
              "    padding: 0;\n",
              "    width: 32px;\n",
              "  }\n",
              "\n",
              "  .colab-df-quickchart:hover {\n",
              "    background-color: var(--hover-bg-color);\n",
              "    box-shadow: 0 1px 2px rgba(60, 64, 67, 0.3), 0 1px 3px 1px rgba(60, 64, 67, 0.15);\n",
              "    fill: var(--button-hover-fill-color);\n",
              "  }\n",
              "\n",
              "  .colab-df-quickchart-complete:disabled,\n",
              "  .colab-df-quickchart-complete:disabled:hover {\n",
              "    background-color: var(--disabled-bg-color);\n",
              "    fill: var(--disabled-fill-color);\n",
              "    box-shadow: none;\n",
              "  }\n",
              "\n",
              "  .colab-df-spinner {\n",
              "    border: 2px solid var(--fill-color);\n",
              "    border-color: transparent;\n",
              "    border-bottom-color: var(--fill-color);\n",
              "    animation:\n",
              "      spin 1s steps(1) infinite;\n",
              "  }\n",
              "\n",
              "  @keyframes spin {\n",
              "    0% {\n",
              "      border-color: transparent;\n",
              "      border-bottom-color: var(--fill-color);\n",
              "      border-left-color: var(--fill-color);\n",
              "    }\n",
              "    20% {\n",
              "      border-color: transparent;\n",
              "      border-left-color: var(--fill-color);\n",
              "      border-top-color: var(--fill-color);\n",
              "    }\n",
              "    30% {\n",
              "      border-color: transparent;\n",
              "      border-left-color: var(--fill-color);\n",
              "      border-top-color: var(--fill-color);\n",
              "      border-right-color: var(--fill-color);\n",
              "    }\n",
              "    40% {\n",
              "      border-color: transparent;\n",
              "      border-right-color: var(--fill-color);\n",
              "      border-top-color: var(--fill-color);\n",
              "    }\n",
              "    60% {\n",
              "      border-color: transparent;\n",
              "      border-right-color: var(--fill-color);\n",
              "    }\n",
              "    80% {\n",
              "      border-color: transparent;\n",
              "      border-right-color: var(--fill-color);\n",
              "      border-bottom-color: var(--fill-color);\n",
              "    }\n",
              "    90% {\n",
              "      border-color: transparent;\n",
              "      border-bottom-color: var(--fill-color);\n",
              "    }\n",
              "  }\n",
              "</style>\n",
              "\n",
              "  <script>\n",
              "    async function quickchart(key) {\n",
              "      const quickchartButtonEl =\n",
              "        document.querySelector('#' + key + ' button');\n",
              "      quickchartButtonEl.disabled = true;  // To prevent multiple clicks.\n",
              "      quickchartButtonEl.classList.add('colab-df-spinner');\n",
              "      try {\n",
              "        const charts = await google.colab.kernel.invokeFunction(\n",
              "            'suggestCharts', [key], {});\n",
              "      } catch (error) {\n",
              "        console.error('Error during call to suggestCharts:', error);\n",
              "      }\n",
              "      quickchartButtonEl.classList.remove('colab-df-spinner');\n",
              "      quickchartButtonEl.classList.add('colab-df-quickchart-complete');\n",
              "    }\n",
              "    (() => {\n",
              "      let quickchartButtonEl =\n",
              "        document.querySelector('#df-ddbbfcae-58a8-46f9-9c19-7fa47d95f6f7 button');\n",
              "      quickchartButtonEl.style.display =\n",
              "        google.colab.kernel.accessAllowed ? 'block' : 'none';\n",
              "    })();\n",
              "  </script>\n",
              "</div>\n",
              "    </div>\n",
              "  </div>\n"
            ],
            "application/vnd.google.colaboratory.intrinsic+json": {
              "type": "dataframe",
              "variable_name": "data",
              "summary": "{\n  \"name\": \"data\",\n  \"rows\": 7228,\n  \"fields\": [\n    {\n      \"column\": \"Ambit_InchiKey\",\n      \"properties\": {\n        \"dtype\": \"string\",\n        \"num_unique_values\": 6718,\n        \"samples\": [\n          \"YCMFUDYAPRZFNK-UHFFFAOYNA-N\",\n          \"CMGCUKSVHPVYFF-UHFFFAOYNA-N\",\n          \"TWCLCEJEWNFRIT-UHFFFAOYNA-N\"\n        ],\n        \"semantic_type\": \"\",\n        \"description\": \"\"\n      }\n    },\n    {\n      \"column\": \"Original_Entry_ID\",\n      \"properties\": {\n        \"dtype\": \"string\",\n        \"num_unique_values\": 6920,\n        \"samples\": [\n          \"CHEMBL2206518\",\n          \"11777763\",\n          \"CHEMBL52538\"\n        ],\n        \"semantic_type\": \"\",\n        \"description\": \"\"\n      }\n    },\n    {\n      \"column\": \"Entrez_ID\",\n      \"properties\": {\n        \"dtype\": \"number\",\n        \"std\": 9488,\n        \"min\": 6532,\n        \"max\": 25553,\n        \"num_unique_values\": 2,\n        \"samples\": [\n          25553,\n          6532\n        ],\n        \"semantic_type\": \"\",\n        \"description\": \"\"\n      }\n    },\n    {\n      \"column\": \"Activity_Flag\",\n      \"properties\": {\n        \"dtype\": \"category\",\n        \"num_unique_values\": 1,\n        \"samples\": [\n          \"A\"\n        ],\n        \"semantic_type\": \"\",\n        \"description\": \"\"\n      }\n    },\n    {\n      \"column\": \"pXC50\",\n      \"properties\": {\n        \"dtype\": \"number\",\n        \"std\": 1.1778131998297408,\n        \"min\": 5.0,\n        \"max\": 11.7,\n        \"num_unique_values\": 1308,\n        \"samples\": [\n          7.34679\n        ],\n        \"semantic_type\": \"\",\n        \"description\": \"\"\n      }\n    },\n    {\n      \"column\": \"DB\",\n      \"properties\": {\n        \"dtype\": \"category\",\n        \"num_unique_values\": 2,\n        \"samples\": [\n          \"chembl20\"\n        ],\n        \"semantic_type\": \"\",\n        \"description\": \"\"\n      }\n    },\n    {\n      \"column\": \"Original_Assay_ID\",\n      \"properties\": {\n        \"dtype\": \"number\",\n        \"std\": 242172,\n        \"min\": 271,\n        \"max\": 1367806,\n        \"num_unique_values\": 876,\n        \"samples\": [\n          309077\n        ],\n        \"semantic_type\": \"\",\n        \"description\": \"\"\n      }\n    },\n    {\n      \"column\": \"Tax_ID\",\n      \"properties\": {\n        \"dtype\": \"number\",\n        \"std\": 254,\n        \"min\": 9606,\n        \"max\": 10116,\n        \"num_unique_values\": 2,\n        \"samples\": [\n          10116\n        ],\n        \"semantic_type\": \"\",\n        \"description\": \"\"\n      }\n    },\n    {\n      \"column\": \"Gene_Symbol\",\n      \"properties\": {\n        \"dtype\": \"category\",\n        \"num_unique_values\": 1,\n        \"samples\": [\n          \"SLC6A4\"\n        ],\n        \"semantic_type\": \"\",\n        \"description\": \"\"\n      }\n    },\n    {\n      \"column\": \"Ortholog_Group\",\n      \"properties\": {\n        \"dtype\": \"number\",\n        \"std\": 0,\n        \"min\": 4061,\n        \"max\": 4061,\n        \"num_unique_values\": 1,\n        \"samples\": [\n          4061\n        ],\n        \"semantic_type\": \"\",\n        \"description\": \"\"\n      }\n    },\n    {\n      \"column\": \"SMILES\",\n      \"properties\": {\n        \"dtype\": \"string\",\n        \"num_unique_values\": 6913,\n        \"samples\": [\n          \"[C@@H]1([C@@](C2=CC=CC=3C2=CC=CC3)(C(N(CC)CC)=O)C1)CN\"\n        ],\n        \"semantic_type\": \"\",\n        \"description\": \"\"\n      }\n    }\n  ]\n}"
            }
          },
          "metadata": {},
          "execution_count": 5
        }
      ]
    },
    {
      "cell_type": "code",
      "source": [
        "!pwd"
      ],
      "metadata": {
        "colab": {
          "base_uri": "https://localhost:8080/"
        },
        "id": "LAODhkSonjmw",
        "outputId": "c023003d-5129-48bb-aaaf-1c660b9b670b"
      },
      "execution_count": 22,
      "outputs": [
        {
          "output_type": "stream",
          "name": "stdout",
          "text": [
            "/content\n"
          ]
        }
      ]
    },
    {
      "cell_type": "code",
      "source": [
        "PandasTools.AddMoleculeColumnToFrame(data,'SMILES','Molecule')"
      ],
      "metadata": {
        "id": "i5fON5PSnmM3"
      },
      "execution_count": 23,
      "outputs": []
    },
    {
      "cell_type": "code",
      "source": [
        "data.head()"
      ],
      "metadata": {
        "colab": {
          "base_uri": "https://localhost:8080/",
          "height": 400
        },
        "id": "76uoiLP3n1ZS",
        "outputId": "c2a35402-4de6-4211-b9ee-3548008210e9"
      },
      "execution_count": 24,
      "outputs": [
        {
          "output_type": "execute_result",
          "data": {
            "text/plain": [
              "                Ambit_InchiKey Original_Entry_ID  Entrez_ID Activity_Flag  \\\n",
              "0  CWYBNSVSYKQGJB-UHFFFAOYNA-N          71541095       6532             A   \n",
              "1  CTETYYAZBPJBHE-UHFFFAOYNA-N        CHEMBL1289       6532             A   \n",
              "2  FQDRMHHCWZAXJM-UHFFFAOYNA-N            125558      25553             A   \n",
              "3  QRAWNNQNLQPNIZ-UHFFFAOYNA-N      CHEMBL205229       6532             A   \n",
              "4  HCFHWXDIZOAUTQ-UHFFFAOYNA-N        CHEMBL6376      25553             A   \n",
              "\n",
              "     pXC50        DB  Original_Assay_ID  Tax_ID Gene_Symbol  Ortholog_Group  \\\n",
              "0  6.85387   pubchem             727355    9606      SLC6A4            4061   \n",
              "1  6.37000  chembl20             774720    9606      SLC6A4            4061   \n",
              "2  9.98297   pubchem             205028   10116      SLC6A4            4061   \n",
              "3  7.54000  chembl20             950695    9606      SLC6A4            4061   \n",
              "4  6.11000  chembl20             201505   10116      SLC6A4            4061   \n",
              "\n",
              "                          SMILES  \\\n",
              "0     ClC=1C=C(C2CCCCNC2)C=CC1Cl   \n",
              "1  C(#CI)COC=1C=C(Cl)C(=CC1Cl)Cl   \n",
              "2       O1C=2C=C3CC(N)CC3=CC2OC1   \n",
              "3      N1C=C(CCN)C2=C1C(=CC=C2)F   \n",
              "4      C1(=CC=2OCOC2C=C1C)CC(N)C   \n",
              "\n",
              "                                           Molecule  \n",
              "0  <rdkit.Chem.rdchem.Mol object at 0x7d4a59f00510>  \n",
              "1  <rdkit.Chem.rdchem.Mol object at 0x7d4a59f005f0>  \n",
              "2  <rdkit.Chem.rdchem.Mol object at 0x7d4a59f00660>  \n",
              "3  <rdkit.Chem.rdchem.Mol object at 0x7d4a59f006d0>  \n",
              "4  <rdkit.Chem.rdchem.Mol object at 0x7d4a59f00740>  "
            ],
            "text/html": [
              "\n",
              "  <div id=\"df-b5b82457-4c76-4ded-8c37-bea90df1cb5e\" class=\"colab-df-container\">\n",
              "    <div>\n",
              "<style scoped>\n",
              "    .dataframe tbody tr th:only-of-type {\n",
              "        vertical-align: middle;\n",
              "    }\n",
              "\n",
              "    .dataframe tbody tr th {\n",
              "        vertical-align: top;\n",
              "    }\n",
              "\n",
              "    .dataframe thead th {\n",
              "        text-align: right;\n",
              "    }\n",
              "</style>\n",
              "<table border=\"1\" class=\"dataframe\">\n",
              "  <thead>\n",
              "    <tr style=\"text-align: right;\">\n",
              "      <th></th>\n",
              "      <th>Ambit_InchiKey</th>\n",
              "      <th>Original_Entry_ID</th>\n",
              "      <th>Entrez_ID</th>\n",
              "      <th>Activity_Flag</th>\n",
              "      <th>pXC50</th>\n",
              "      <th>DB</th>\n",
              "      <th>Original_Assay_ID</th>\n",
              "      <th>Tax_ID</th>\n",
              "      <th>Gene_Symbol</th>\n",
              "      <th>Ortholog_Group</th>\n",
              "      <th>SMILES</th>\n",
              "      <th>Molecule</th>\n",
              "    </tr>\n",
              "  </thead>\n",
              "  <tbody>\n",
              "    <tr>\n",
              "      <th>0</th>\n",
              "      <td>CWYBNSVSYKQGJB-UHFFFAOYNA-N</td>\n",
              "      <td>71541095</td>\n",
              "      <td>6532</td>\n",
              "      <td>A</td>\n",
              "      <td>6.85387</td>\n",
              "      <td>pubchem</td>\n",
              "      <td>727355</td>\n",
              "      <td>9606</td>\n",
              "      <td>SLC6A4</td>\n",
              "      <td>4061</td>\n",
              "      <td>ClC=1C=C(C2CCCCNC2)C=CC1Cl</td>\n",
              "      <td>&lt;rdkit.Chem.rdchem.Mol object at 0x7d4a59f00510&gt;</td>\n",
              "    </tr>\n",
              "    <tr>\n",
              "      <th>1</th>\n",
              "      <td>CTETYYAZBPJBHE-UHFFFAOYNA-N</td>\n",
              "      <td>CHEMBL1289</td>\n",
              "      <td>6532</td>\n",
              "      <td>A</td>\n",
              "      <td>6.37000</td>\n",
              "      <td>chembl20</td>\n",
              "      <td>774720</td>\n",
              "      <td>9606</td>\n",
              "      <td>SLC6A4</td>\n",
              "      <td>4061</td>\n",
              "      <td>C(#CI)COC=1C=C(Cl)C(=CC1Cl)Cl</td>\n",
              "      <td>&lt;rdkit.Chem.rdchem.Mol object at 0x7d4a59f005f0&gt;</td>\n",
              "    </tr>\n",
              "    <tr>\n",
              "      <th>2</th>\n",
              "      <td>FQDRMHHCWZAXJM-UHFFFAOYNA-N</td>\n",
              "      <td>125558</td>\n",
              "      <td>25553</td>\n",
              "      <td>A</td>\n",
              "      <td>9.98297</td>\n",
              "      <td>pubchem</td>\n",
              "      <td>205028</td>\n",
              "      <td>10116</td>\n",
              "      <td>SLC6A4</td>\n",
              "      <td>4061</td>\n",
              "      <td>O1C=2C=C3CC(N)CC3=CC2OC1</td>\n",
              "      <td>&lt;rdkit.Chem.rdchem.Mol object at 0x7d4a59f00660&gt;</td>\n",
              "    </tr>\n",
              "    <tr>\n",
              "      <th>3</th>\n",
              "      <td>QRAWNNQNLQPNIZ-UHFFFAOYNA-N</td>\n",
              "      <td>CHEMBL205229</td>\n",
              "      <td>6532</td>\n",
              "      <td>A</td>\n",
              "      <td>7.54000</td>\n",
              "      <td>chembl20</td>\n",
              "      <td>950695</td>\n",
              "      <td>9606</td>\n",
              "      <td>SLC6A4</td>\n",
              "      <td>4061</td>\n",
              "      <td>N1C=C(CCN)C2=C1C(=CC=C2)F</td>\n",
              "      <td>&lt;rdkit.Chem.rdchem.Mol object at 0x7d4a59f006d0&gt;</td>\n",
              "    </tr>\n",
              "    <tr>\n",
              "      <th>4</th>\n",
              "      <td>HCFHWXDIZOAUTQ-UHFFFAOYNA-N</td>\n",
              "      <td>CHEMBL6376</td>\n",
              "      <td>25553</td>\n",
              "      <td>A</td>\n",
              "      <td>6.11000</td>\n",
              "      <td>chembl20</td>\n",
              "      <td>201505</td>\n",
              "      <td>10116</td>\n",
              "      <td>SLC6A4</td>\n",
              "      <td>4061</td>\n",
              "      <td>C1(=CC=2OCOC2C=C1C)CC(N)C</td>\n",
              "      <td>&lt;rdkit.Chem.rdchem.Mol object at 0x7d4a59f00740&gt;</td>\n",
              "    </tr>\n",
              "  </tbody>\n",
              "</table>\n",
              "</div>\n",
              "    <div class=\"colab-df-buttons\">\n",
              "\n",
              "  <div class=\"colab-df-container\">\n",
              "    <button class=\"colab-df-convert\" onclick=\"convertToInteractive('df-b5b82457-4c76-4ded-8c37-bea90df1cb5e')\"\n",
              "            title=\"Convert this dataframe to an interactive table.\"\n",
              "            style=\"display:none;\">\n",
              "\n",
              "  <svg xmlns=\"http://www.w3.org/2000/svg\" height=\"24px\" viewBox=\"0 -960 960 960\">\n",
              "    <path d=\"M120-120v-720h720v720H120Zm60-500h600v-160H180v160Zm220 220h160v-160H400v160Zm0 220h160v-160H400v160ZM180-400h160v-160H180v160Zm440 0h160v-160H620v160ZM180-180h160v-160H180v160Zm440 0h160v-160H620v160Z\"/>\n",
              "  </svg>\n",
              "    </button>\n",
              "\n",
              "  <style>\n",
              "    .colab-df-container {\n",
              "      display:flex;\n",
              "      gap: 12px;\n",
              "    }\n",
              "\n",
              "    .colab-df-convert {\n",
              "      background-color: #E8F0FE;\n",
              "      border: none;\n",
              "      border-radius: 50%;\n",
              "      cursor: pointer;\n",
              "      display: none;\n",
              "      fill: #1967D2;\n",
              "      height: 32px;\n",
              "      padding: 0 0 0 0;\n",
              "      width: 32px;\n",
              "    }\n",
              "\n",
              "    .colab-df-convert:hover {\n",
              "      background-color: #E2EBFA;\n",
              "      box-shadow: 0px 1px 2px rgba(60, 64, 67, 0.3), 0px 1px 3px 1px rgba(60, 64, 67, 0.15);\n",
              "      fill: #174EA6;\n",
              "    }\n",
              "\n",
              "    .colab-df-buttons div {\n",
              "      margin-bottom: 4px;\n",
              "    }\n",
              "\n",
              "    [theme=dark] .colab-df-convert {\n",
              "      background-color: #3B4455;\n",
              "      fill: #D2E3FC;\n",
              "    }\n",
              "\n",
              "    [theme=dark] .colab-df-convert:hover {\n",
              "      background-color: #434B5C;\n",
              "      box-shadow: 0px 1px 3px 1px rgba(0, 0, 0, 0.15);\n",
              "      filter: drop-shadow(0px 1px 2px rgba(0, 0, 0, 0.3));\n",
              "      fill: #FFFFFF;\n",
              "    }\n",
              "  </style>\n",
              "\n",
              "    <script>\n",
              "      const buttonEl =\n",
              "        document.querySelector('#df-b5b82457-4c76-4ded-8c37-bea90df1cb5e button.colab-df-convert');\n",
              "      buttonEl.style.display =\n",
              "        google.colab.kernel.accessAllowed ? 'block' : 'none';\n",
              "\n",
              "      async function convertToInteractive(key) {\n",
              "        const element = document.querySelector('#df-b5b82457-4c76-4ded-8c37-bea90df1cb5e');\n",
              "        const dataTable =\n",
              "          await google.colab.kernel.invokeFunction('convertToInteractive',\n",
              "                                                    [key], {});\n",
              "        if (!dataTable) return;\n",
              "\n",
              "        const docLinkHtml = 'Like what you see? Visit the ' +\n",
              "          '<a target=\"_blank\" href=https://colab.research.google.com/notebooks/data_table.ipynb>data table notebook</a>'\n",
              "          + ' to learn more about interactive tables.';\n",
              "        element.innerHTML = '';\n",
              "        dataTable['output_type'] = 'display_data';\n",
              "        await google.colab.output.renderOutput(dataTable, element);\n",
              "        const docLink = document.createElement('div');\n",
              "        docLink.innerHTML = docLinkHtml;\n",
              "        element.appendChild(docLink);\n",
              "      }\n",
              "    </script>\n",
              "  </div>\n",
              "\n",
              "\n",
              "<div id=\"df-8e826d67-7b3f-467d-a470-229298d6ef9c\">\n",
              "  <button class=\"colab-df-quickchart\" onclick=\"quickchart('df-8e826d67-7b3f-467d-a470-229298d6ef9c')\"\n",
              "            title=\"Suggest charts\"\n",
              "            style=\"display:none;\">\n",
              "\n",
              "<svg xmlns=\"http://www.w3.org/2000/svg\" height=\"24px\"viewBox=\"0 0 24 24\"\n",
              "     width=\"24px\">\n",
              "    <g>\n",
              "        <path d=\"M19 3H5c-1.1 0-2 .9-2 2v14c0 1.1.9 2 2 2h14c1.1 0 2-.9 2-2V5c0-1.1-.9-2-2-2zM9 17H7v-7h2v7zm4 0h-2V7h2v10zm4 0h-2v-4h2v4z\"/>\n",
              "    </g>\n",
              "</svg>\n",
              "  </button>\n",
              "\n",
              "<style>\n",
              "  .colab-df-quickchart {\n",
              "      --bg-color: #E8F0FE;\n",
              "      --fill-color: #1967D2;\n",
              "      --hover-bg-color: #E2EBFA;\n",
              "      --hover-fill-color: #174EA6;\n",
              "      --disabled-fill-color: #AAA;\n",
              "      --disabled-bg-color: #DDD;\n",
              "  }\n",
              "\n",
              "  [theme=dark] .colab-df-quickchart {\n",
              "      --bg-color: #3B4455;\n",
              "      --fill-color: #D2E3FC;\n",
              "      --hover-bg-color: #434B5C;\n",
              "      --hover-fill-color: #FFFFFF;\n",
              "      --disabled-bg-color: #3B4455;\n",
              "      --disabled-fill-color: #666;\n",
              "  }\n",
              "\n",
              "  .colab-df-quickchart {\n",
              "    background-color: var(--bg-color);\n",
              "    border: none;\n",
              "    border-radius: 50%;\n",
              "    cursor: pointer;\n",
              "    display: none;\n",
              "    fill: var(--fill-color);\n",
              "    height: 32px;\n",
              "    padding: 0;\n",
              "    width: 32px;\n",
              "  }\n",
              "\n",
              "  .colab-df-quickchart:hover {\n",
              "    background-color: var(--hover-bg-color);\n",
              "    box-shadow: 0 1px 2px rgba(60, 64, 67, 0.3), 0 1px 3px 1px rgba(60, 64, 67, 0.15);\n",
              "    fill: var(--button-hover-fill-color);\n",
              "  }\n",
              "\n",
              "  .colab-df-quickchart-complete:disabled,\n",
              "  .colab-df-quickchart-complete:disabled:hover {\n",
              "    background-color: var(--disabled-bg-color);\n",
              "    fill: var(--disabled-fill-color);\n",
              "    box-shadow: none;\n",
              "  }\n",
              "\n",
              "  .colab-df-spinner {\n",
              "    border: 2px solid var(--fill-color);\n",
              "    border-color: transparent;\n",
              "    border-bottom-color: var(--fill-color);\n",
              "    animation:\n",
              "      spin 1s steps(1) infinite;\n",
              "  }\n",
              "\n",
              "  @keyframes spin {\n",
              "    0% {\n",
              "      border-color: transparent;\n",
              "      border-bottom-color: var(--fill-color);\n",
              "      border-left-color: var(--fill-color);\n",
              "    }\n",
              "    20% {\n",
              "      border-color: transparent;\n",
              "      border-left-color: var(--fill-color);\n",
              "      border-top-color: var(--fill-color);\n",
              "    }\n",
              "    30% {\n",
              "      border-color: transparent;\n",
              "      border-left-color: var(--fill-color);\n",
              "      border-top-color: var(--fill-color);\n",
              "      border-right-color: var(--fill-color);\n",
              "    }\n",
              "    40% {\n",
              "      border-color: transparent;\n",
              "      border-right-color: var(--fill-color);\n",
              "      border-top-color: var(--fill-color);\n",
              "    }\n",
              "    60% {\n",
              "      border-color: transparent;\n",
              "      border-right-color: var(--fill-color);\n",
              "    }\n",
              "    80% {\n",
              "      border-color: transparent;\n",
              "      border-right-color: var(--fill-color);\n",
              "      border-bottom-color: var(--fill-color);\n",
              "    }\n",
              "    90% {\n",
              "      border-color: transparent;\n",
              "      border-bottom-color: var(--fill-color);\n",
              "    }\n",
              "  }\n",
              "</style>\n",
              "\n",
              "  <script>\n",
              "    async function quickchart(key) {\n",
              "      const quickchartButtonEl =\n",
              "        document.querySelector('#' + key + ' button');\n",
              "      quickchartButtonEl.disabled = true;  // To prevent multiple clicks.\n",
              "      quickchartButtonEl.classList.add('colab-df-spinner');\n",
              "      try {\n",
              "        const charts = await google.colab.kernel.invokeFunction(\n",
              "            'suggestCharts', [key], {});\n",
              "      } catch (error) {\n",
              "        console.error('Error during call to suggestCharts:', error);\n",
              "      }\n",
              "      quickchartButtonEl.classList.remove('colab-df-spinner');\n",
              "      quickchartButtonEl.classList.add('colab-df-quickchart-complete');\n",
              "    }\n",
              "    (() => {\n",
              "      let quickchartButtonEl =\n",
              "        document.querySelector('#df-8e826d67-7b3f-467d-a470-229298d6ef9c button');\n",
              "      quickchartButtonEl.style.display =\n",
              "        google.colab.kernel.accessAllowed ? 'block' : 'none';\n",
              "    })();\n",
              "  </script>\n",
              "</div>\n",
              "    </div>\n",
              "  </div>\n"
            ],
            "application/vnd.google.colaboratory.intrinsic+json": {
              "type": "dataframe",
              "variable_name": "data",
              "summary": "{\n  \"name\": \"data\",\n  \"rows\": 7228,\n  \"fields\": [\n    {\n      \"column\": \"Ambit_InchiKey\",\n      \"properties\": {\n        \"dtype\": \"string\",\n        \"num_unique_values\": 6718,\n        \"samples\": [\n          \"YCMFUDYAPRZFNK-UHFFFAOYNA-N\",\n          \"CMGCUKSVHPVYFF-UHFFFAOYNA-N\",\n          \"TWCLCEJEWNFRIT-UHFFFAOYNA-N\"\n        ],\n        \"semantic_type\": \"\",\n        \"description\": \"\"\n      }\n    },\n    {\n      \"column\": \"Original_Entry_ID\",\n      \"properties\": {\n        \"dtype\": \"string\",\n        \"num_unique_values\": 6920,\n        \"samples\": [\n          \"CHEMBL2206518\",\n          \"11777763\",\n          \"CHEMBL52538\"\n        ],\n        \"semantic_type\": \"\",\n        \"description\": \"\"\n      }\n    },\n    {\n      \"column\": \"Entrez_ID\",\n      \"properties\": {\n        \"dtype\": \"number\",\n        \"std\": 9488,\n        \"min\": 6532,\n        \"max\": 25553,\n        \"num_unique_values\": 2,\n        \"samples\": [\n          25553,\n          6532\n        ],\n        \"semantic_type\": \"\",\n        \"description\": \"\"\n      }\n    },\n    {\n      \"column\": \"Activity_Flag\",\n      \"properties\": {\n        \"dtype\": \"category\",\n        \"num_unique_values\": 1,\n        \"samples\": [\n          \"A\"\n        ],\n        \"semantic_type\": \"\",\n        \"description\": \"\"\n      }\n    },\n    {\n      \"column\": \"pXC50\",\n      \"properties\": {\n        \"dtype\": \"number\",\n        \"std\": 1.1778131998297408,\n        \"min\": 5.0,\n        \"max\": 11.7,\n        \"num_unique_values\": 1308,\n        \"samples\": [\n          7.34679\n        ],\n        \"semantic_type\": \"\",\n        \"description\": \"\"\n      }\n    },\n    {\n      \"column\": \"DB\",\n      \"properties\": {\n        \"dtype\": \"category\",\n        \"num_unique_values\": 2,\n        \"samples\": [\n          \"chembl20\"\n        ],\n        \"semantic_type\": \"\",\n        \"description\": \"\"\n      }\n    },\n    {\n      \"column\": \"Original_Assay_ID\",\n      \"properties\": {\n        \"dtype\": \"number\",\n        \"std\": 242172,\n        \"min\": 271,\n        \"max\": 1367806,\n        \"num_unique_values\": 876,\n        \"samples\": [\n          309077\n        ],\n        \"semantic_type\": \"\",\n        \"description\": \"\"\n      }\n    },\n    {\n      \"column\": \"Tax_ID\",\n      \"properties\": {\n        \"dtype\": \"number\",\n        \"std\": 254,\n        \"min\": 9606,\n        \"max\": 10116,\n        \"num_unique_values\": 2,\n        \"samples\": [\n          10116\n        ],\n        \"semantic_type\": \"\",\n        \"description\": \"\"\n      }\n    },\n    {\n      \"column\": \"Gene_Symbol\",\n      \"properties\": {\n        \"dtype\": \"category\",\n        \"num_unique_values\": 1,\n        \"samples\": [\n          \"SLC6A4\"\n        ],\n        \"semantic_type\": \"\",\n        \"description\": \"\"\n      }\n    },\n    {\n      \"column\": \"Ortholog_Group\",\n      \"properties\": {\n        \"dtype\": \"number\",\n        \"std\": 0,\n        \"min\": 4061,\n        \"max\": 4061,\n        \"num_unique_values\": 1,\n        \"samples\": [\n          4061\n        ],\n        \"semantic_type\": \"\",\n        \"description\": \"\"\n      }\n    },\n    {\n      \"column\": \"SMILES\",\n      \"properties\": {\n        \"dtype\": \"string\",\n        \"num_unique_values\": 6913,\n        \"samples\": [\n          \"[C@@H]1([C@@](C2=CC=CC=3C2=CC=CC3)(C(N(CC)CC)=O)C1)CN\"\n        ],\n        \"semantic_type\": \"\",\n        \"description\": \"\"\n      }\n    },\n    {\n      \"column\": \"Molecule\",\n      \"properties\": {\n        \"dtype\": \"string\",\n        \"num_unique_values\": 7228,\n        \"samples\": [\n          \"<rdkit.Chem.rdchem.Mol object at 0x7d4a59dc4120>\"\n        ],\n        \"semantic_type\": \"\",\n        \"description\": \"\"\n      }\n    }\n  ]\n}"
            }
          },
          "metadata": {},
          "execution_count": 24
        }
      ]
    },
    {
      "cell_type": "code",
      "source": [
        "def mol2fp(mol):\n",
        "    fp = AllChem.GetHashedMorganFingerprint(mol, 2, nBits=4096)\n",
        "    ar = np.zeros((1,), dtype=np.int8)\n",
        "    DataStructs.ConvertToNumpyArray(fp, ar)\n",
        "    return ar\n",
        "\n",
        "fp = mol2fp(Chem.MolFromSmiles(data.loc[1,\"SMILES\"]))"
      ],
      "metadata": {
        "id": "5y17LaiJn4mp"
      },
      "execution_count": 25,
      "outputs": []
    },
    {
      "cell_type": "code",
      "source": [
        "fp"
      ],
      "metadata": {
        "colab": {
          "base_uri": "https://localhost:8080/"
        },
        "id": "nUmpKn7dpcDC",
        "outputId": "90829d8d-d383-405e-8d64-870367cd785b"
      },
      "execution_count": 26,
      "outputs": [
        {
          "output_type": "execute_result",
          "data": {
            "text/plain": [
              "array([0, 0, 0, ..., 0, 0, 0], dtype=int8)"
            ]
          },
          "metadata": {},
          "execution_count": 26
        }
      ]
    },
    {
      "cell_type": "code",
      "source": [
        "len(fp)"
      ],
      "metadata": {
        "colab": {
          "base_uri": "https://localhost:8080/"
        },
        "id": "1F5oSjvNpdWb",
        "outputId": "b14f288e-c43c-4823-fd8e-d2211b8a4f03"
      },
      "execution_count": 27,
      "outputs": [
        {
          "output_type": "execute_result",
          "data": {
            "text/plain": [
              "4096"
            ]
          },
          "metadata": {},
          "execution_count": 27
        }
      ]
    },
    {
      "cell_type": "code",
      "source": [
        "data.loc[1,\"SMILES\"]"
      ],
      "metadata": {
        "colab": {
          "base_uri": "https://localhost:8080/",
          "height": 35
        },
        "id": "3WQmhwlwpjTM",
        "outputId": "f82f9aa1-b0ab-4954-b9a3-6edba4589e37"
      },
      "execution_count": 28,
      "outputs": [
        {
          "output_type": "execute_result",
          "data": {
            "text/plain": [
              "'C(#CI)COC=1C=C(Cl)C(=CC1Cl)Cl'"
            ],
            "application/vnd.google.colaboratory.intrinsic+json": {
              "type": "string"
            }
          },
          "metadata": {},
          "execution_count": 28
        }
      ]
    },
    {
      "cell_type": "code",
      "source": [
        "fp.reshape((64,-1))"
      ],
      "metadata": {
        "colab": {
          "base_uri": "https://localhost:8080/"
        },
        "id": "bfBM9Fjupwgw",
        "outputId": "d4c9b90c-ac97-410f-c9ec-ff8aa31338fc"
      },
      "execution_count": 29,
      "outputs": [
        {
          "output_type": "execute_result",
          "data": {
            "text/plain": [
              "array([[0, 0, 0, ..., 0, 0, 0],\n",
              "       [0, 0, 0, ..., 0, 0, 0],\n",
              "       [0, 0, 0, ..., 0, 0, 0],\n",
              "       ...,\n",
              "       [0, 0, 0, ..., 0, 0, 0],\n",
              "       [0, 0, 0, ..., 0, 0, 0],\n",
              "       [0, 0, 0, ..., 0, 0, 0]], dtype=int8)"
            ]
          },
          "metadata": {},
          "execution_count": 29
        }
      ]
    },
    {
      "cell_type": "code",
      "source": [
        "4096/64"
      ],
      "metadata": {
        "colab": {
          "base_uri": "https://localhost:8080/"
        },
        "id": "fwDM2as-qOWT",
        "outputId": "e1fb727f-65f6-4eae-9ef3-33f34d87c59e"
      },
      "execution_count": 30,
      "outputs": [
        {
          "output_type": "execute_result",
          "data": {
            "text/plain": [
              "64.0"
            ]
          },
          "metadata": {},
          "execution_count": 30
        }
      ]
    },
    {
      "cell_type": "code",
      "source": [
        "plt.matshow(fp.reshape((64,-1)) > 0)"
      ],
      "metadata": {
        "colab": {
          "base_uri": "https://localhost:8080/",
          "height": 454
        },
        "id": "5V3RNcbkqbFC",
        "outputId": "1c3b5616-0d4c-422c-eb89-38a2de8a4d65"
      },
      "execution_count": 31,
      "outputs": [
        {
          "output_type": "execute_result",
          "data": {
            "text/plain": [
              "<matplotlib.image.AxesImage at 0x7d4a59c91420>"
            ]
          },
          "metadata": {},
          "execution_count": 31
        },
        {
          "output_type": "display_data",
          "data": {
            "text/plain": [
              "<Figure size 480x480 with 1 Axes>"
            ],
            "image/png": "[encoded data removed]"
          },
          "metadata": {}
        }
      ]
    },
    {
      "cell_type": "code",
      "source": [
        "data[\"FPs\"] = data.Molecule.apply(mol2fp)"
      ],
      "metadata": {
        "id": "5hGsxjWYrJiZ"
      },
      "execution_count": 32,
      "outputs": []
    },
    {
      "cell_type": "code",
      "source": [
        "data[\"FPs\"].head(5)"
      ],
      "metadata": {
        "colab": {
          "base_uri": "https://localhost:8080/"
        },
        "id": "FE3EjBWlrgVt",
        "outputId": "2e036d76-3086-49ce-b377-04c98b20904d"
      },
      "execution_count": 33,
      "outputs": [
        {
          "output_type": "execute_result",
          "data": {
            "text/plain": [
              "0    [0, 0, 0, 0, 0, 0, 0, 0, 0, 0, 0, 0, 0, 0, 0, ...\n",
              "1    [0, 0, 0, 0, 0, 0, 0, 0, 0, 0, 0, 0, 0, 0, 0, ...\n",
              "2    [0, 0, 0, 0, 0, 0, 0, 0, 0, 0, 0, 0, 0, 0, 0, ...\n",
              "3    [0, 0, 0, 0, 0, 0, 0, 0, 0, 0, 0, 0, 0, 0, 0, ...\n",
              "4    [0, 0, 0, 0, 0, 0, 0, 0, 0, 0, 0, 0, 0, 0, 0, ...\n",
              "Name: FPs, dtype: object"
            ]
          },
          "metadata": {},
          "execution_count": 33
        }
      ]
    },
    {
      "cell_type": "code",
      "source": [
        "X"
      ],
      "metadata": {
        "colab": {
          "base_uri": "https://localhost:8080/",
          "height": 141
        },
        "id": "pLlUv_GRsONg",
        "outputId": "c468b460-02ba-4569-ba11-a02aa24badbd"
      },
      "execution_count": 34,
      "outputs": [
        {
          "output_type": "error",
          "ename": "NameError",
          "evalue": "name 'X' is not defined",
          "traceback": [
            "\u001b[0;31m---------------------------------------------------------------------------\u001b[0m",
            "\u001b[0;31mNameError\u001b[0m                                 Traceback (most recent call last)",
            "\u001b[0;32m<ipython-input-34-b5fec669aca1>\u001b[0m in \u001b[0;36m<cell line: 1>\u001b[0;34m()\u001b[0m\n\u001b[0;32m----> 1\u001b[0;31m \u001b[0mX\u001b[0m\u001b[0;34m\u001b[0m\u001b[0;34m\u001b[0m\u001b[0m\n\u001b[0m",
            "\u001b[0;31mNameError\u001b[0m: name 'X' is not defined"
          ]
        }
      ]
    },
    {
      "cell_type": "code",
      "source": [
        "X = np.stack(data.FPs.values)"
      ],
      "metadata": {
        "id": "R5D0oAThri_E"
      },
      "execution_count": 35,
      "outputs": []
    },
    {
      "cell_type": "code",
      "source": [
        "data.FPs.values"
      ],
      "metadata": {
        "colab": {
          "base_uri": "https://localhost:8080/"
        },
        "id": "PQG3eJx6sPMz",
        "outputId": "95fbf51f-afb0-4175-eb47-5cf4b6797944"
      },
      "execution_count": 36,
      "outputs": [
        {
          "output_type": "execute_result",
          "data": {
            "text/plain": [
              "array([array([0, 0, 0, ..., 0, 0, 0], dtype=int8),\n",
              "       array([0, 0, 0, ..., 0, 0, 0], dtype=int8),\n",
              "       array([0, 0, 0, ..., 0, 0, 0], dtype=int8), ...,\n",
              "       array([0, 2, 0, ..., 0, 0, 0], dtype=int8),\n",
              "       array([0, 2, 0, ..., 0, 0, 0], dtype=int8),\n",
              "       array([0, 2, 0, ..., 0, 0, 0], dtype=int8)], dtype=object)"
            ]
          },
          "metadata": {},
          "execution_count": 36
        }
      ]
    },
    {
      "cell_type": "code",
      "source": [
        "X"
      ],
      "metadata": {
        "colab": {
          "base_uri": "https://localhost:8080/"
        },
        "id": "u5tiSP-rsTYB",
        "outputId": "b58906ec-9708-4327-e664-81c020db5315"
      },
      "execution_count": 37,
      "outputs": [
        {
          "output_type": "execute_result",
          "data": {
            "text/plain": [
              "array([[0, 0, 0, ..., 0, 0, 0],\n",
              "       [0, 0, 0, ..., 0, 0, 0],\n",
              "       [0, 0, 0, ..., 0, 0, 0],\n",
              "       ...,\n",
              "       [0, 2, 0, ..., 0, 0, 0],\n",
              "       [0, 2, 0, ..., 0, 0, 0],\n",
              "       [0, 2, 0, ..., 0, 0, 0]], dtype=int8)"
            ]
          },
          "metadata": {},
          "execution_count": 37
        }
      ]
    },
    {
      "cell_type": "code",
      "source": [
        "y = data.pXC50.values.reshape((-1,1))"
      ],
      "metadata": {
        "id": "SUMWzjMpsZD_"
      },
      "execution_count": 38,
      "outputs": []
    },
    {
      "cell_type": "code",
      "source": [
        "y"
      ],
      "metadata": {
        "colab": {
          "base_uri": "https://localhost:8080/"
        },
        "id": "wyI1nyKvsmTh",
        "outputId": "8a301aac-df1f-4417-c328-4ef458823c87"
      },
      "execution_count": null,
      "outputs": [
        {
          "output_type": "execute_result",
          "data": {
            "text/plain": [
              "array([[6.85387],\n",
              "       [6.37   ],\n",
              "       [9.98297],\n",
              "       ...,\n",
              "       [6.60206],\n",
              "       [6.8    ],\n",
              "       [6.14   ]])"
            ]
          },
          "metadata": {},
          "execution_count": 21
        }
      ]
    },
    {
      "cell_type": "code",
      "source": [
        "X_train, X_test, y_train, y_test = train_test_split(X, y,  test_size=0.10, random_state=42)\n",
        "X_train, X_validation, y_train, y_validation = train_test_split(X_train, y_train,  test_size=0.05, random_state=42)\n",
        "#Normalizing output using standard scaling\n",
        "scaler = StandardScaler()\n",
        "y_train = scaler.fit_transform(y_train)\n",
        "y_test = scaler.transform(y_test)\n",
        "y_validation = scaler.transform(y_validation)"
      ],
      "metadata": {
        "id": "PnCENDk7snjC"
      },
      "execution_count": 39,
      "outputs": []
    },
    {
      "cell_type": "code",
      "source": [
        "y_validation"
      ],
      "metadata": {
        "colab": {
          "base_uri": "https://localhost:8080/"
        },
        "id": "ucmxfmOguSVW",
        "outputId": "e4c38088-5ac0-4a80-a457-ce6e8d439e9a"
      },
      "execution_count": 40,
      "outputs": [
        {
          "output_type": "execute_result",
          "data": {
            "text/plain": [
              "array([[ 0.98149849],\n",
              "       [ 0.10682453],\n",
              "       [ 0.16821306],\n",
              "       [ 1.44925375],\n",
              "       [-0.83578527],\n",
              "       [-0.58951784],\n",
              "       [-1.14149656],\n",
              "       [ 0.45052045],\n",
              "       [-0.10547497],\n",
              "       [-1.31982814],\n",
              "       [ 0.66729522],\n",
              "       [ 1.07491027],\n",
              "       [ 1.87315641],\n",
              "       [ 1.96052191],\n",
              "       [ 1.17856338],\n",
              "       [ 0.08984057],\n",
              "       [-0.52713576],\n",
              "       [-0.40269428],\n",
              "       [ 0.41253582],\n",
              "       [-0.3059961 ],\n",
              "       [-0.85276923],\n",
              "       [-0.4366622 ],\n",
              "       [ 0.57388344],\n",
              "       [-0.01150272],\n",
              "       [ 0.60005573],\n",
              "       [-1.66777854],\n",
              "       [-1.26781476],\n",
              "       [-1.26038428],\n",
              "       [ 1.51649324],\n",
              "       [-0.01206319],\n",
              "       [-0.82729329],\n",
              "       [-0.77634141],\n",
              "       [-0.93768903],\n",
              "       [-0.02865652],\n",
              "       [ 0.58264717],\n",
              "       [-0.09698299],\n",
              "       [ 0.70975513],\n",
              "       [ 0.72673909],\n",
              "       [ 1.00697443],\n",
              "       [-0.72410724],\n",
              "       [-1.3368121 ],\n",
              "       [-1.14612469],\n",
              "       [ 0.00649179],\n",
              "       [ 1.51649324],\n",
              "       [ 0.74372305],\n",
              "       [ 1.34665364],\n",
              "       [-0.77634141],\n",
              "       [-1.59157151],\n",
              "       [-1.79485253],\n",
              "       [-0.80181735],\n",
              "       [ 0.31918348],\n",
              "       [ 2.0277614 ],\n",
              "       [ 0.19174433],\n",
              "       [ 0.34459998],\n",
              "       [-0.71689755],\n",
              "       [-0.05141503],\n",
              "       [-1.63403141],\n",
              "       [ 0.54320192],\n",
              "       [ 0.45052045],\n",
              "       [-0.40269428],\n",
              "       [ 0.54320192],\n",
              "       [ 0.03259613],\n",
              "       [ 0.93188834],\n",
              "       [-1.01986593],\n",
              "       [-0.53007398],\n",
              "       [-1.38448608],\n",
              "       [-0.65745369],\n",
              "       [ 0.02190473],\n",
              "       [ 0.68427919],\n",
              "       [-0.21587072],\n",
              "       [-1.01986593],\n",
              "       [-1.37921256],\n",
              "       [ 0.08134859],\n",
              "       [-0.86070074],\n",
              "       [-1.15519412],\n",
              "       [-1.31982814],\n",
              "       [-1.71895121],\n",
              "       [ 0.65283338],\n",
              "       [-0.02055517],\n",
              "       [ 0.84598347],\n",
              "       [ 0.58237542],\n",
              "       [ 1.26173384],\n",
              "       [ 1.56744513],\n",
              "       [ 0.60005573],\n",
              "       [-0.89425255],\n",
              "       [ 0.51775995],\n",
              "       [-0.521582  ],\n",
              "       [-0.15642685],\n",
              "       [-0.11396695],\n",
              "       [-0.40878303],\n",
              "       [ 0.76368769],\n",
              "       [-0.31777448],\n",
              "       [ 0.54320192],\n",
              "       [ 1.13435414],\n",
              "       [-1.03110081],\n",
              "       [ 1.85627436],\n",
              "       [-1.62466475],\n",
              "       [ 0.66729522],\n",
              "       [-0.48761408],\n",
              "       [ 2.07696394],\n",
              "       [-1.58307953],\n",
              "       [ 0.6333273 ],\n",
              "       [-0.76784943],\n",
              "       [ 2.0939479 ],\n",
              "       [-0.45364616],\n",
              "       [-0.29800515],\n",
              "       [ 1.75426869],\n",
              "       [-1.63403141],\n",
              "       [ 1.16832206],\n",
              "       [ 0.07373128],\n",
              "       [ 0.17476037],\n",
              "       [-0.09497039],\n",
              "       [ 1.06952636],\n",
              "       [ 0.99848245],\n",
              "       [ 0.02541192],\n",
              "       [ 0.97300651],\n",
              "       [-0.98014893],\n",
              "       [ 1.11132389],\n",
              "       [ 0.73601233],\n",
              "       [-0.00357121],\n",
              "       [-1.77839507],\n",
              "       [ 0.57388344],\n",
              "       [-0.51309002],\n",
              "       [-0.78992858],\n",
              "       [-0.99713289],\n",
              "       [ 0.14079245],\n",
              "       [-0.75887341],\n",
              "       [-1.45569982],\n",
              "       [-0.40269428],\n",
              "       [-1.20094042],\n",
              "       [ 0.22697756],\n",
              "       [ 0.83713483],\n",
              "       [ 0.51775995],\n",
              "       [ 0.40404384],\n",
              "       [-0.57253388],\n",
              "       [-1.6391266 ],\n",
              "       [ 2.61195869],\n",
              "       [-0.64896171],\n",
              "       [-0.78276984],\n",
              "       [-0.89425255],\n",
              "       [ 1.05792631],\n",
              "       [-0.97165695],\n",
              "       [ 0.00492077],\n",
              "       [-0.97165695],\n",
              "       [-1.32832012],\n",
              "       [-0.07999903],\n",
              "       [ 0.32761602],\n",
              "       [ 0.66729522],\n",
              "       [-0.84427725],\n",
              "       [ 1.26173384],\n",
              "       [ 1.07491027],\n",
              "       [ 1.55895315],\n",
              "       [-0.29229854],\n",
              "       [-0.23980961],\n",
              "       [-1.61704745],\n",
              "       [-1.10745221],\n",
              "       [-1.38776398],\n",
              "       [ 0.26817216],\n",
              "       [ 0.00492077],\n",
              "       [-0.06301507],\n",
              "       [-0.26419858],\n",
              "       [ 1.26173384],\n",
              "       [ 0.31912404],\n",
              "       [-0.45364616],\n",
              "       [-0.77546674],\n",
              "       [ 0.96451453],\n",
              "       [-1.32832012],\n",
              "       [-0.89956004],\n",
              "       [-0.1819028 ],\n",
              "       [ 0.28515612],\n",
              "       [ 1.26173384],\n",
              "       [ 0.70975513],\n",
              "       [-1.13300458],\n",
              "       [-1.2518923 ],\n",
              "       [-1.43627017],\n",
              "       [-0.4366622 ],\n",
              "       [ 0.10689247],\n",
              "       [ 0.57388344],\n",
              "       [ 1.77138852],\n",
              "       [ 1.48252532],\n",
              "       [ 0.28515612],\n",
              "       [-0.92919705],\n",
              "       [ 0.58237542],\n",
              "       [ 0.2511882 ],\n",
              "       [-1.04808478],\n",
              "       [-0.57710257],\n",
              "       [-1.31982814],\n",
              "       [-1.31982814],\n",
              "       [-0.07999903],\n",
              "       [-1.38776398],\n",
              "       [-0.40269428],\n",
              "       [-0.77634141],\n",
              "       [-0.91221309],\n",
              "       [-0.07999903],\n",
              "       [-0.42630199],\n",
              "       [ 0.75221503],\n",
              "       [-0.73165661],\n",
              "       [ 2.11093186],\n",
              "       [ 0.41258677],\n",
              "       [ 0.84562681],\n",
              "       [-0.49610606],\n",
              "       [ 0.98999047],\n",
              "       [ 0.15777641],\n",
              "       [ 0.79467493],\n",
              "       [ 2.45061107],\n",
              "       [-1.01411685],\n",
              "       [-1.56609557],\n",
              "       [-0.02865652],\n",
              "       [ 0.75221503],\n",
              "       [ 0.4916556 ],\n",
              "       [ 1.39239994],\n",
              "       [ 1.08340225],\n",
              "       [ 0.85568981],\n",
              "       [ 1.55895315],\n",
              "       [-0.77634141],\n",
              "       [-0.70496632],\n",
              "       [-1.13300458],\n",
              "       [-0.02055517],\n",
              "       [ 1.08340225],\n",
              "       [-0.8237861 ],\n",
              "       [-0.28380656],\n",
              "       [ 0.53991552],\n",
              "       [-1.34530408],\n",
              "       [-0.4366622 ],\n",
              "       [ 0.58237542],\n",
              "       [ 0.57388344],\n",
              "       [ 3.21488928],\n",
              "       [ 3.25734919],\n",
              "       [-0.33143807],\n",
              "       [ 0.30214008],\n",
              "       [-0.85276923],\n",
              "       [ 1.11737018],\n",
              "       [ 0.14928443],\n",
              "       [-0.04603111],\n",
              "       [ 1.51649324],\n",
              "       [ 0.54320192],\n",
              "       [-1.55860564],\n",
              "       [ 0.83713483],\n",
              "       [-0.21587072],\n",
              "       [-0.25833062],\n",
              "       [-0.92919705],\n",
              "       [-0.41077015],\n",
              "       [-0.58951784],\n",
              "       [-0.98864091],\n",
              "       [-1.62553943],\n",
              "       [ 0.78618295],\n",
              "       [ 0.74500534],\n",
              "       [ 0.15777641],\n",
              "       [-1.48966775],\n",
              "       [-1.14149656],\n",
              "       [ 1.4060975 ],\n",
              "       [ 0.45052045],\n",
              "       [-1.4217319 ],\n",
              "       [-0.2243627 ],\n",
              "       [-0.06301507],\n",
              "       [ 0.11531651],\n",
              "       [ 0.99076324],\n",
              "       [ 3.1214775 ],\n",
              "       [-1.59157151],\n",
              "       [-1.69048609],\n",
              "       [-1.59157151],\n",
              "       [-0.02055517],\n",
              "       [ 1.59292107],\n",
              "       [-0.93757015],\n",
              "       [ 1.00697443],\n",
              "       [ 1.66085691],\n",
              "       [ 1.69482483],\n",
              "       [-0.66594567],\n",
              "       [-0.07999903],\n",
              "       [ 1.3211777 ],\n",
              "       [-0.521582  ],\n",
              "       [-0.93768903],\n",
              "       [ 0.94753057],\n",
              "       [-1.31982814],\n",
              "       [-0.49610606],\n",
              "       [-0.87449172],\n",
              "       [-1.30284418],\n",
              "       [ 1.17709427],\n",
              "       [ 0.57388344],\n",
              "       [-0.12245893],\n",
              "       [-0.87824517],\n",
              "       [ 1.48252532],\n",
              "       [-0.85276923],\n",
              "       [-1.04556266],\n",
              "       [-0.97165695],\n",
              "       [ 0.3785679 ],\n",
              "       [-1.54911161],\n",
              "       [-0.42817022],\n",
              "       [-0.58951784],\n",
              "       [ 1.60141305],\n",
              "       [-0.96316497],\n",
              "       [ 1.4485574 ],\n",
              "       [-0.93768903],\n",
              "       [ 0.48896364],\n",
              "       [ 1.52019575],\n",
              "       [ 1.6015659 ],\n",
              "       [-0.1819028 ],\n",
              "       [ 0.42479824],\n",
              "       [-0.29066808],\n",
              "       [-0.4366622 ],\n",
              "       [ 0.70451557],\n",
              "       [ 0.14079245],\n",
              "       [-1.15848052],\n",
              "       [-0.64706799],\n",
              "       [-0.06301507],\n",
              "       [-0.31777448],\n",
              "       [-0.62348577],\n",
              "       [ 0.8376953 ],\n",
              "       [-1.85482289],\n",
              "       [ 0.60005573],\n",
              "       [-1.77839507],\n",
              "       [-0.95467299],\n",
              "       [-0.05036202],\n",
              "       [-1.65101537],\n",
              "       [ 0.08984057],\n",
              "       [-0.21587072],\n",
              "       [ 0.6757872 ],\n",
              "       [ 0.7983095 ],\n",
              "       [-0.3942023 ],\n",
              "       [-1.05605025],\n",
              "       [-0.65745369],\n",
              "       [-0.92005119],\n",
              "       [-0.23285468],\n",
              "       [-0.70840557],\n",
              "       [ 0.26212587],\n",
              "       [-0.29229854]])"
            ]
          },
          "metadata": {},
          "execution_count": 40
        }
      ]
    },
    {
      "cell_type": "code",
      "source": [
        "plt.hist(y_train)\n",
        "plt.show()"
      ],
      "metadata": {
        "colab": {
          "base_uri": "https://localhost:8080/",
          "height": 432
        },
        "id": "CR5g5giIuvOb",
        "outputId": "bffde90e-ddf9-4d76-e071-8538c411a251"
      },
      "execution_count": 41,
      "outputs": [
        {
          "output_type": "display_data",
          "data": {
            "text/plain": [
              "<Figure size 640x480 with 1 Axes>"
            ],
            "image/png": "[encoded data removed]"
          },
          "metadata": {}
        }
      ]
    },
    {
      "cell_type": "code",
      "source": [
        "X_train.shape"
      ],
      "metadata": {
        "colab": {
          "base_uri": "https://localhost:8080/"
        },
        "id": "JO_1D1c1uVBe",
        "outputId": "a7bac027-7332-40e0-e7f1-22a4c5441d4d"
      },
      "execution_count": 42,
      "outputs": [
        {
          "output_type": "execute_result",
          "data": {
            "text/plain": [
              "(6179, 4096)"
            ]
          },
          "metadata": {},
          "execution_count": 42
        }
      ]
    },
    {
      "cell_type": "code",
      "source": [
        "7700*0.85"
      ],
      "metadata": {
        "colab": {
          "base_uri": "https://localhost:8080/"
        },
        "id": "JxP0GBOXvB6b",
        "outputId": "db8dae8a-be24-4120-f339-58dc14ee2744"
      },
      "execution_count": 43,
      "outputs": [
        {
          "output_type": "execute_result",
          "data": {
            "text/plain": [
              "6545.0"
            ]
          },
          "metadata": {},
          "execution_count": 43
        }
      ]
    },
    {
      "cell_type": "code",
      "source": [
        "feature_select = VarianceThreshold(threshold=0.05)\n",
        "X_train = feature_select.fit_transform(X_train)\n",
        "X_validation = feature_select.transform(X_validation)\n",
        "X_test = feature_select.transform(X_test)\n",
        "X_train.shape"
      ],
      "metadata": {
        "colab": {
          "base_uri": "https://localhost:8080/"
        },
        "id": "w3Z3Y9uPvS7Y",
        "outputId": "6799865a-09dc-4bf9-9978-a35a5ac0e1ad"
      },
      "execution_count": 44,
      "outputs": [
        {
          "output_type": "execute_result",
          "data": {
            "text/plain": [
              "(6179, 222)"
            ]
          },
          "metadata": {},
          "execution_count": 44
        }
      ]
    },
    {
      "cell_type": "code",
      "source": [
        "# Let's get those arrays transfered to the GPU memory as tensors\n",
        "device = torch.device(\"cuda:0\" if torch.cuda.is_available() else \"cpu\")\n",
        "print(device)\n",
        "# If you don't have a GPU, buy a graphics card. I have for a long time used a 1060 GTX, which is not that expensive anymore.\n",
        "X_train = torch.tensor(X_train, device=device).float()\n",
        "X_test = torch.tensor(X_test, device=device).float()\n",
        "X_validation = torch.tensor(X_validation, device=device).float()\n",
        "y_train = torch.tensor(y_train, device=device).float()\n",
        "y_test = torch.tensor(y_test, device=device).float()\n",
        "y_validation = torch.tensor(y_validation, device=device).float()\n",
        "X_train"
      ],
      "metadata": {
        "colab": {
          "base_uri": "https://localhost:8080/"
        },
        "id": "9nCxDw9kwEdP",
        "outputId": "9b4e2a65-cbea-405c-ba9d-76b74f0adabf"
      },
      "execution_count": 45,
      "outputs": [
        {
          "output_type": "stream",
          "name": "stdout",
          "text": [
            "cpu\n"
          ]
        },
        {
          "output_type": "execute_result",
          "data": {
            "text/plain": [
              "tensor([[0., 0., 1.,  ..., 0., 0., 0.],\n",
              "        [0., 0., 0.,  ..., 0., 0., 0.],\n",
              "        [0., 0., 0.,  ..., 1., 0., 0.],\n",
              "        ...,\n",
              "        [0., 0., 0.,  ..., 0., 0., 0.],\n",
              "        [0., 0., 0.,  ..., 0., 0., 0.],\n",
              "        [0., 0., 0.,  ..., 0., 1., 0.]])"
            ]
          },
          "metadata": {},
          "execution_count": 45
        }
      ]
    },
    {
      "cell_type": "code",
      "source": [
        "device = torch.device(\"cuda:0\" if torch.cuda.is_available() else \"cpu\")"
      ],
      "metadata": {
        "id": "-yEwGG9cw3Mu"
      },
      "execution_count": 46,
      "outputs": []
    },
    {
      "cell_type": "code",
      "source": [
        "device"
      ],
      "metadata": {
        "colab": {
          "base_uri": "https://localhost:8080/"
        },
        "id": "T3LMYemfw_w3",
        "outputId": "95f4862d-c996-444c-f9c3-a8be5c3d7649"
      },
      "execution_count": 47,
      "outputs": [
        {
          "output_type": "execute_result",
          "data": {
            "text/plain": [
              "device(type='cpu')"
            ]
          },
          "metadata": {},
          "execution_count": 47
        }
      ]
    },
    {
      "cell_type": "code",
      "source": [
        "from torch.utils.data import TensorDataset\n",
        "train_dataset = TensorDataset(X_train, y_train)\n",
        "validation_dataset = TensorDataset(X_validation, y_validation)"
      ],
      "metadata": {
        "id": "2--1IvgqxAiX",
        "colab": {
          "base_uri": "https://localhost:8080/"
        },
        "outputId": "d4a3c821-2431-4f97-882f-70b14fc1f999"
      },
      "execution_count": 65,
      "outputs": [
        {
          "output_type": "stream",
          "name": "stdout",
          "text": [
            "tensor([[0., 0., 1.,  ..., 0., 0., 0.],\n",
            "        [0., 0., 0.,  ..., 0., 0., 0.],\n",
            "        [0., 0., 0.,  ..., 1., 0., 0.],\n",
            "        ...,\n",
            "        [0., 0., 0.,  ..., 0., 0., 0.],\n",
            "        [0., 0., 0.,  ..., 0., 0., 0.],\n",
            "        [0., 0., 0.,  ..., 0., 1., 0.]])\n",
            "<torch.utils.data.dataset.TensorDataset object at 0x7d4a3d932230>\n"
          ]
        }
      ]
    },
    {
      "cell_type": "code",
      "source": [
        "train_dataset"
      ],
      "metadata": {
        "colab": {
          "base_uri": "https://localhost:8080/"
        },
        "id": "fNIg1m5IyAuG",
        "outputId": "d20287b2-e14e-487a-e930-7298e7937d80"
      },
      "execution_count": 49,
      "outputs": [
        {
          "output_type": "execute_result",
          "data": {
            "text/plain": [
              "<torch.utils.data.dataset.TensorDataset at 0x7d4a59c3afe0>"
            ]
          },
          "metadata": {},
          "execution_count": 49
        }
      ]
    },
    {
      "cell_type": "code",
      "source": [
        "train_loader = torch.utils.data.DataLoader(dataset=train_dataset,\n",
        "                                          batch_size=256,\n",
        "                                          shuffle=True)\n",
        "validation_loader = torch.utils.data.DataLoader(dataset=validation_dataset,\n",
        "                                          batch_size=256,\n",
        "                                          shuffle=False)"
      ],
      "metadata": {
        "id": "rgXY2SzAyCSf"
      },
      "execution_count": 50,
      "outputs": []
    },
    {
      "cell_type": "code",
      "source": [
        "class Net(nn.Module):\n",
        "    def __init__(self, input_size, hidden_size, dropout_rate, out_size):\n",
        "        super(Net, self).__init__()\n",
        "        # Three layers and a output layer\n",
        "        self.fc1 = nn.Linear(input_size, hidden_size)  # 1st Full-Connected Layer\n",
        "        self.fc15 = nn.Linear(hidden_size, hidden_size)\n",
        "        self.fc2 = nn.Linear(hidden_size, hidden_size)\n",
        "        self.fc3 = nn.Linear(hidden_size, hidden_size)\n",
        "        self.fc4 = nn.Linear(hidden_size, hidden_size)\n",
        "        self.fc5 = nn.Linear(hidden_size, hidden_size)\n",
        "        self.fc6 = nn.Linear(hidden_size, hidden_size)\n",
        "        self.fc_out = nn.Linear(hidden_size, out_size) # Output layer\n",
        "        #Layer normalization for faster training\n",
        "        self.ln1 = nn.LayerNorm(hidden_size)\n",
        "        self.ln15 = nn.LayerNorm(hidden_size)\n",
        "        self.ln2 = nn.LayerNorm(hidden_size)\n",
        "        self.ln3 = nn.LayerNorm(hidden_size)\n",
        "        self.ln4 = nn.LayerNorm(hidden_size)\n",
        "        self.ln5 = nn.LayerNorm(hidden_size)\n",
        "        self.ln6 = nn.LayerNorm(hidden_size)\n",
        "        #LeakyReLU will be used as the activation function\n",
        "        self.activation = nn.LeakyReLU()\n",
        "        #Dropout for regularization\n",
        "        self.dropout = nn.Dropout(dropout_rate)\n",
        "\n",
        "    def forward(self, x):# Forward pass: stacking each layer together\n",
        "        # Fully connected =&amp;gt; Layer Norm =&amp;gt; LeakyReLU =&amp;gt; Dropout times 3\n",
        "        out = self.fc1(x)\n",
        "        out = self.ln1(out)\n",
        "        out = self.activation(out)\n",
        "        out = self.dropout(out)\n",
        "        out = self.fc15(out)\n",
        "        out = self.ln15(out)\n",
        "        out = self.activation(out)\n",
        "        out = self.dropout(out)\n",
        "        out = self.fc2(out)\n",
        "        out = self.ln2(out)\n",
        "        out = self.activation(out)\n",
        "        out = self.dropout(out)\n",
        "        out = self.fc3(out)\n",
        "        out = self.ln3(out)\n",
        "        out = self.activation(out)\n",
        "        out = self.dropout(out)\n",
        "        out = self.fc4(out)\n",
        "        out = self.ln4(out)\n",
        "        out = self.activation(out)\n",
        "        out = self.dropout(out)\n",
        "        out = self.fc5(out)\n",
        "        out = self.ln5(out)\n",
        "        out = self.activation(out)\n",
        "        out = self.dropout(out)\n",
        "        out = self.fc6(out)\n",
        "        out = self.ln6(out)\n",
        "        out = self.activation(out)\n",
        "        out = self.dropout(out)\n",
        "        #Final output layer\n",
        "        out = self.fc_out(out)\n",
        "        return out\n"
      ],
      "metadata": {
        "id": "LIbg4OB-lOX3"
      },
      "execution_count": 88,
      "outputs": []
    },
    {
      "cell_type": "code",
      "source": [
        "#Defining the hyperparameters\n",
        "input_size = X_train.size()[-1]     # The input size should fit our fingerprint size\n",
        "hidden_size = 1024   # The size of the hidden layer\n",
        "dropout_rate = 0.5    # The dropout rate\n",
        "output_size = 1        # This is just a single task, so this will be one\n",
        "learning_rate = 0.001  # The learning rate for the optimizer\n",
        "model = Net(input_size, hidden_size, dropout_rate, output_size)"
      ],
      "metadata": {
        "id": "IJjLbyu_lcAJ"
      },
      "execution_count": 89,
      "outputs": []
    },
    {
      "cell_type": "code",
      "source": [
        "criterion = nn.MSELoss()\n",
        "optimizer = torch.optim.Adam(model.parameters(), lr=learning_rate)"
      ],
      "metadata": {
        "id": "4s6ebquNnrdY"
      },
      "execution_count": 90,
      "outputs": []
    },
    {
      "cell_type": "code",
      "source": [
        "model.train() #Ensure the network is in \"train\" mode with dropouts active\n",
        "epochs = 100\n",
        "for e in range(epochs):\n",
        "    running_loss = 0\n",
        "    for fps, labels in train_loader:\n",
        "        # Training pass\n",
        "        optimizer.zero_grad() # Initialize the gradients, which will be recorded during the forward pa\n",
        "\n",
        "        output = model(fps) #Forward pass of the mini-batch\n",
        "        loss = criterion(output, labels) #Computing the loss\n",
        "        loss.backward() # calculate the backward pass\n",
        "        optimizer.step() # Optimize the weights\n",
        "\n",
        "        running_loss += loss.item()\n",
        "    else:\n",
        "        if e%10 == 0:\n",
        "            validation_loss = torch.mean(( y_validation - model(X_validation) )**2).item()\n",
        "            print(\"Epoch: %3i Training loss: %0.2F Validation loss: %0.2F\"%(e,(running_loss/len(train_loader)), validation_loss))"
      ],
      "metadata": {
        "colab": {
          "base_uri": "https://localhost:8080/"
        },
        "id": "DccYjMCKoHQt",
        "outputId": "93c82570-86a2-4016-85f5-6ccf60d8f0b7"
      },
      "execution_count": 91,
      "outputs": [
        {
          "output_type": "stream",
          "name": "stdout",
          "text": [
            "Epoch:   0 Training loss: 2.03 Validation loss: 1.08\n",
            "Epoch:  10 Training loss: 0.98 Validation loss: 0.89\n",
            "Epoch:  20 Training loss: 0.37 Validation loss: 0.50\n",
            "Epoch:  30 Training loss: 0.27 Validation loss: 0.49\n",
            "Epoch:  40 Training loss: 0.24 Validation loss: 0.47\n",
            "Epoch:  50 Training loss: 0.22 Validation loss: 0.41\n",
            "Epoch:  60 Training loss: 0.20 Validation loss: 0.43\n",
            "Epoch:  70 Training loss: 0.23 Validation loss: 0.50\n",
            "Epoch:  80 Training loss: 0.18 Validation loss: 0.44\n",
            "Epoch:  90 Training loss: 0.17 Validation loss: 0.42\n"
          ]
        }
      ]
    },
    {
      "cell_type": "code",
      "source": [
        "model.eval() #Switch to evaluation mode, where dropout is switched off\n",
        "y_pred_train = model(X_train)\n",
        "y_pred_validation = model(X_validation)\n",
        "y_pred_test = model(X_test)"
      ],
      "metadata": {
        "id": "1NsUBxKQpEEm"
      },
      "execution_count": 92,
      "outputs": []
    },
    {
      "cell_type": "code",
      "source": [
        "torch.mean(( y_train - y_pred_train )**2).item()"
      ],
      "metadata": {
        "colab": {
          "base_uri": "https://localhost:8080/"
        },
        "id": "5O14pigwqWjm",
        "outputId": "1649b3e5-66ef-48be-9cf8-13be670a46cf"
      },
      "execution_count": 93,
      "outputs": [
        {
          "output_type": "execute_result",
          "data": {
            "text/plain": [
              "0.10516952723264694"
            ]
          },
          "metadata": {},
          "execution_count": 93
        }
      ]
    },
    {
      "cell_type": "code",
      "source": [
        "torch.mean(( y_validation - y_pred_validation )**2).item()"
      ],
      "metadata": {
        "colab": {
          "base_uri": "https://localhost:8080/"
        },
        "id": "5gq7YkM8qcby",
        "outputId": "f0f62db7-64cc-499c-8f14-8a93acee4b23"
      },
      "execution_count": 94,
      "outputs": [
        {
          "output_type": "execute_result",
          "data": {
            "text/plain": [
              "0.40004098415374756"
            ]
          },
          "metadata": {},
          "execution_count": 94
        }
      ]
    },
    {
      "cell_type": "code",
      "source": [
        "torch.mean(( y_test - y_pred_test )**2).item()"
      ],
      "metadata": {
        "colab": {
          "base_uri": "https://localhost:8080/"
        },
        "id": "9FNwYrZRqfro",
        "outputId": "14b9a398-78b0-4501-eb64-4439df95e1ce"
      },
      "execution_count": 95,
      "outputs": [
        {
          "output_type": "execute_result",
          "data": {
            "text/plain": [
              "0.34805828332901"
            ]
          },
          "metadata": {},
          "execution_count": 95
        }
      ]
    },
    {
      "cell_type": "code",
      "source": [
        "def flatten(tensor):\n",
        "    return tensor.cpu().detach().numpy().flatten()"
      ],
      "metadata": {
        "id": "_C23049kqjBf"
      },
      "execution_count": 96,
      "outputs": []
    },
    {
      "cell_type": "code",
      "source": [
        "plt.scatter(flatten(y_pred_test), flatten(y_test), alpha=0.5, label=\"Test\")\n",
        "plt.scatter(flatten(y_pred_train), flatten(y_train), alpha=0.1, label=\"Train\")\n",
        "plt.legend()\n",
        "plt.plot([-1.5, 1.5], [-1.5,1.5], c=\"b\")"
      ],
      "metadata": {
        "colab": {
          "base_uri": "https://localhost:8080/",
          "height": 447
        },
        "id": "O8hJGm6bq5HI",
        "outputId": "e819edd0-8491-49b1-eb30-0cd81cc6c27d"
      },
      "execution_count": 97,
      "outputs": [
        {
          "output_type": "execute_result",
          "data": {
            "text/plain": [
              "[<matplotlib.lines.Line2D at 0x7d4a3b3895a0>]"
            ]
          },
          "metadata": {},
          "execution_count": 97
        },
        {
          "output_type": "display_data",
          "data": {
            "text/plain": [
              "<Figure size 640x480 with 1 Axes>"
            ],
            "image/png": "[encoded data removed]"
          },
          "metadata": {}
        }
      ]
    },
    {
      "cell_type": "code",
      "source": [
        "def predict_smiles(smiles):\n",
        "    fp = mol2fp(Chem.MolFromSmiles(smiles)).reshape(1,-1)\n",
        "    fp_filtered = feature_select.transform(fp)\n",
        "    fp_tensor = torch.tensor(fp_filtered, device=device).float()\n",
        "    prediction = model(fp_tensor)\n",
        "    #return prediction.cpu().detach().numpy()\n",
        "    pXC50 = scaler.inverse_transform(prediction.cpu().detach().numpy())\n",
        "    return pXC50[0][0]"
      ],
      "metadata": {
        "id": "qId4itjurIIL"
      },
      "execution_count": 98,
      "outputs": []
    },
    {
      "cell_type": "code",
      "source": [
        "predict_smiles('Cc1ccc2c(N3CCNCC3)cc(F)cc2n1')"
      ],
      "metadata": {
        "colab": {
          "base_uri": "https://localhost:8080/"
        },
        "id": "Rzy9Ekf8r-Oi",
        "outputId": "9bef434c-8178-4b42-ffbb-49d92677f944"
      },
      "execution_count": 99,
      "outputs": [
        {
          "output_type": "execute_result",
          "data": {
            "text/plain": [
              "8.913735"
            ]
          },
          "metadata": {},
          "execution_count": 99
        }
      ]
    },
    {
      "cell_type": "code",
      "source": [
        "model"
      ],
      "metadata": {
        "colab": {
          "base_uri": "https://localhost:8080/"
        },
        "id": "bA0rdhG5sHHE",
        "outputId": "0207a1ed-e089-4fb0-8fee-9aa49ab6137d"
      },
      "execution_count": 100,
      "outputs": [
        {
          "output_type": "execute_result",
          "data": {
            "text/plain": [
              "Net(\n",
              "  (fc1): Linear(in_features=222, out_features=1024, bias=True)\n",
              "  (fc15): Linear(in_features=1024, out_features=1024, bias=True)\n",
              "  (fc2): Linear(in_features=1024, out_features=1024, bias=True)\n",
              "  (fc3): Linear(in_features=1024, out_features=1024, bias=True)\n",
              "  (fc4): Linear(in_features=1024, out_features=1024, bias=True)\n",
              "  (fc5): Linear(in_features=1024, out_features=1024, bias=True)\n",
              "  (fc6): Linear(in_features=1024, out_features=1024, bias=True)\n",
              "  (fc_out): Linear(in_features=1024, out_features=1, bias=True)\n",
              "  (ln1): LayerNorm((1024,), eps=1e-05, elementwise_affine=True)\n",
              "  (ln15): LayerNorm((1024,), eps=1e-05, elementwise_affine=True)\n",
              "  (ln2): LayerNorm((1024,), eps=1e-05, elementwise_affine=True)\n",
              "  (ln3): LayerNorm((1024,), eps=1e-05, elementwise_affine=True)\n",
              "  (ln4): LayerNorm((1024,), eps=1e-05, elementwise_affine=True)\n",
              "  (ln5): LayerNorm((1024,), eps=1e-05, elementwise_affine=True)\n",
              "  (ln6): LayerNorm((1024,), eps=1e-05, elementwise_affine=True)\n",
              "  (activation): LeakyReLU(negative_slope=0.01)\n",
              "  (dropout): Dropout(p=0.5, inplace=False)\n",
              ")"
            ]
          },
          "metadata": {},
          "execution_count": 100
        }
      ]
    },
    {
      "cell_type": "code",
      "source": [],
      "metadata": {
        "id": "NpcvY6uvsHfY"
      },
      "execution_count": null,
      "outputs": []
    }
  ]
}