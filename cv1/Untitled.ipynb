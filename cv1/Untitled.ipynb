{
 "cells": [
  {
   "cell_type": "code",
   "execution_count": 12,
   "id": "a391fd9f",
   "metadata": {},
   "outputs": [],
   "source": [
    "import pandas as pd\n",
    "\n",
    "df = pd.read_csv('dataset.csv')\n",
    "\n",
    "smiles_column = df[\"SMILES\"]\n"
   ]
  },
  {
   "cell_type": "code",
   "execution_count": 13,
   "id": "01ecbd84",
   "metadata": {},
   "outputs": [],
   "source": [
    "from rdkit import Chem\n",
    "from rdkit.Chem import AllChem\n",
    "\n",
    "mols = [Chem.MolFromSmiles(smi) for smi in smiles_column]\n",
    "fingerprints = [AllChem.GetMorganFingerprintAsBitVect(mol, 2, nBits=1024) for mol in mols]"
   ]
  },
  {
   "cell_type": "code",
   "execution_count": 14,
   "id": "f9434d0d",
   "metadata": {},
   "outputs": [],
   "source": [
    "from rdkit import DataStructs\n",
    "\n",
    "def calculate_similarity(fp1, fp2):\n",
    "    return DataStructs.TanimotoSimilarity(fp1, fp2)\n",
    "\n",
    "reference_compound_fp = fingerprints[0]  # Assuming the first compound is the reference\n",
    "similarities = [calculate_similarity(reference_compound_fp, fp) for fp in fingerprints]"
   ]
  },
  {
   "cell_type": "code",
   "execution_count": 18,
   "id": "e2cbd6ef",
   "metadata": {},
   "outputs": [
    {
     "name": "stdout",
     "output_type": "stream",
     "text": [
      "Top 3 Hits:\n",
      "Compound: C1C(CNCC=C1)C2=CC(=C(C=C2)Cl)Cl\n",
      "Similarity Score: 0.5526315789473685\n",
      "\n",
      "Compound: C1[C@@H](CNCC=C1)C2=CC(=C(C=C2)Cl)Cl\n",
      "Similarity Score: 0.5526315789473685\n",
      "\n",
      "Compound: C1[C@H](CNCC=C1)C2=CC(=C(C=C2)Cl)Cl\n",
      "Similarity Score: 0.5526315789473685\n",
      "\n"
     ]
    }
   ],
   "source": [
    "sorted_indices = sorted(range(len(similarities)), key=lambda i: similarities[i], reverse=True)\n",
    "top_hits_indices = sorted_indices[1:4]\n",
    "top_hits = [(smiles_column[i], similarities[i]) for i in top_hits_indices]\n",
    "\n",
    "print(\"Top 3 Hits:\")\n",
    "for hit in top_hits:\n",
    "    print(\"Compound:\", hit[0])\n",
    "    print(\"Similarity Score:\", hit[1])\n",
    "    print()"
   ]
  }
 ],
 "metadata": {
  "kernelspec": {
   "display_name": "Python 3 (ipykernel)",
   "language": "python",
   "name": "python3"
  },
  "language_info": {
   "codemirror_mode": {
    "name": "ipython",
    "version": 3
   },
   "file_extension": ".py",
   "mimetype": "text/x-python",
   "name": "python",
   "nbconvert_exporter": "python",
   "pygments_lexer": "ipython3",
   "version": "3.9.7"
  }
 },
 "nbformat": 4,
 "nbformat_minor": 5
}
